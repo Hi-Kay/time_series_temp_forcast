{
 "cells": [
  {
   "cell_type": "markdown",
   "id": "dcc305b8",
   "metadata": {},
   "source": [
    "# GOAL\n",
    "Predict tomorrow's temperature, given the temprature until today, as precisely as possible."
   ]
  },
  {
   "cell_type": "code",
   "execution_count": 1,
   "id": "e4cbdcf0",
   "metadata": {},
   "outputs": [],
   "source": [
    "# data analysis stack\n",
    "import numpy as np\n",
    "import pandas as pd\n",
    "\n",
    "# data visualization stack\n",
    "import matplotlib as mpl\n",
    "import matplotlib.pyplot as plt\n",
    "%matplotlib inline\n",
    "import seaborn as sns\n",
    "sns.set_style('whitegrid')\n",
    "from statsmodels.graphics.tsaplots import plot_acf, plot_pacf\n",
    "\n",
    "# machine learning stack\n",
    "from sklearn.preprocessing import PolynomialFeatures, OneHotEncoder\n",
    "from sklearn.linear_model import LinearRegression\n",
    "from sklearn.pipeline import make_pipeline\n",
    "from sklearn.compose import ColumnTransformer\n",
    "from sklearn.preprocessing import PolynomialFeatures, OneHotEncoder\n",
    "from sklearn.pipeline import make_pipeline, Pipeline\n",
    "from sklearn.model_selection import TimeSeriesSplit, GridSearchCV\n",
    "from statsmodels.tsa.arima_process import ArmaProcess\n",
    "import pmdarima as pm\n",
    "from statsmodels.tsa.seasonal import seasonal_decompose\n",
    "\n",
    "\n",
    "\n",
    "\n",
    "# time-related stack\n",
    "from dateutil.relativedelta import relativedelta\n",
    "from datetime import datetime as dt\n",
    "\n",
    "# miscellaneous\n",
    "import time\n",
    "import warnings\n",
    "warnings.filterwarnings(\"ignore\")"
   ]
  },
  {
   "cell_type": "markdown",
   "id": "027b5e9f",
   "metadata": {},
   "source": [
    "# Data\n",
    "Data was preprossed in \"time_series_data_processing.ipynb\""
   ]
  },
  {
   "cell_type": "markdown",
   "id": "f1ebc089",
   "metadata": {},
   "source": [
    "# Baseline Model CV"
   ]
  },
  {
   "cell_type": "code",
   "execution_count": 38,
   "id": "be606d98",
   "metadata": {},
   "outputs": [],
   "source": [
    "# load data\n",
    "train = pd.read_csv('data/train.csv',index_col=0,parse_dates=True)\n",
    "test = pd.read_csv('data/test.csv',index_col=0,parse_dates=True)"
   ]
  },
  {
   "cell_type": "code",
   "execution_count": 39,
   "id": "9ff04e29",
   "metadata": {},
   "outputs": [],
   "source": [
    "# add timestep column\n",
    "train['timestep'] = list(range(train.shape[0]))"
   ]
  },
  {
   "cell_type": "code",
   "execution_count": 40,
   "id": "b9718a7e",
   "metadata": {},
   "outputs": [],
   "source": [
    "# add month column\n",
    "train['month'] = train.index.month"
   ]
  },
  {
   "cell_type": "code",
   "execution_count": 41,
   "id": "64304c69",
   "metadata": {},
   "outputs": [],
   "source": [
    "# timestep should continue after train \n",
    "test['timestep'] = list(range(train.shape[0],train.shape[0]+test.shape[0]))"
   ]
  },
  {
   "cell_type": "code",
   "execution_count": 42,
   "id": "fbc0b09c",
   "metadata": {},
   "outputs": [],
   "source": [
    "test['month'] = test.index.month"
   ]
  },
  {
   "cell_type": "code",
   "execution_count": 43,
   "id": "db137112",
   "metadata": {},
   "outputs": [],
   "source": [
    "# features and target for train set\n",
    "Xb = train[['timestep','month']]\n",
    "yb = train['temp']"
   ]
  },
  {
   "cell_type": "code",
   "execution_count": 44,
   "id": "11267c68",
   "metadata": {},
   "outputs": [],
   "source": [
    "# features and target for test set\n",
    "X_test_baseline = test[['timestep','month']]\n",
    "y_test = test['temp']"
   ]
  },
  {
   "cell_type": "code",
   "execution_count": 45,
   "id": "656cfff3",
   "metadata": {},
   "outputs": [],
   "source": [
    "# column transformer\n",
    "transformer = ColumnTransformer([\n",
    "    ('poly', PolynomialFeatures(degree =2), ['timestep']),\n",
    "    ('ohe', OneHotEncoder(drop='first'), ['month'])]\n",
    ")"
   ]
  },
  {
   "cell_type": "code",
   "execution_count": 46,
   "id": "fa1caab0",
   "metadata": {},
   "outputs": [],
   "source": [
    "# baseline model pipline\n",
    "estimator = Pipeline([\n",
    "        ('transformer', transformer),\n",
    "        ('lr', LinearRegression())]\n",
    ")"
   ]
  },
  {
   "cell_type": "code",
   "execution_count": null,
   "id": "0ed37b72",
   "metadata": {},
   "outputs": [],
   "source": [
    "# train model\n",
    "baseline_model.fit(Xb, yb)"
   ]
  },
  {
   "cell_type": "code",
   "execution_count": null,
   "id": "1dd7412d",
   "metadata": {},
   "outputs": [],
   "source": []
  },
  {
   "cell_type": "code",
   "execution_count": null,
   "id": "8d199176",
   "metadata": {},
   "outputs": [],
   "source": []
  },
  {
   "cell_type": "code",
   "execution_count": 55,
   "id": "4400aa73",
   "metadata": {},
   "outputs": [],
   "source": [
    "#postdiction train data\n",
    "train['baseline_pred_cv'] = baseline_model_cv.predict(Xb)"
   ]
  },
  {
   "cell_type": "code",
   "execution_count": 58,
   "id": "589e2bd1",
   "metadata": {
    "scrolled": false
   },
   "outputs": [
    {
     "data": {
      "text/html": [
       "<div>\n",
       "<style scoped>\n",
       "    .dataframe tbody tr th:only-of-type {\n",
       "        vertical-align: middle;\n",
       "    }\n",
       "\n",
       "    .dataframe tbody tr th {\n",
       "        vertical-align: top;\n",
       "    }\n",
       "\n",
       "    .dataframe thead th {\n",
       "        text-align: right;\n",
       "    }\n",
       "</style>\n",
       "<table border=\"1\" class=\"dataframe\">\n",
       "  <thead>\n",
       "    <tr style=\"text-align: right;\">\n",
       "      <th></th>\n",
       "      <th>temp</th>\n",
       "      <th>baseline_pred_cv</th>\n",
       "    </tr>\n",
       "    <tr>\n",
       "      <th>date</th>\n",
       "      <th></th>\n",
       "      <th></th>\n",
       "    </tr>\n",
       "  </thead>\n",
       "  <tbody>\n",
       "    <tr>\n",
       "      <th>2021-12-27</th>\n",
       "      <td>-3.9</td>\n",
       "      <td>2.208097</td>\n",
       "    </tr>\n",
       "    <tr>\n",
       "      <th>2021-12-28</th>\n",
       "      <td>-0.5</td>\n",
       "      <td>2.208129</td>\n",
       "    </tr>\n",
       "    <tr>\n",
       "      <th>2021-12-29</th>\n",
       "      <td>4.5</td>\n",
       "      <td>2.208162</td>\n",
       "    </tr>\n",
       "    <tr>\n",
       "      <th>2021-12-30</th>\n",
       "      <td>9.3</td>\n",
       "      <td>2.208195</td>\n",
       "    </tr>\n",
       "    <tr>\n",
       "      <th>2021-12-31</th>\n",
       "      <td>13.0</td>\n",
       "      <td>2.208228</td>\n",
       "    </tr>\n",
       "  </tbody>\n",
       "</table>\n",
       "</div>"
      ],
      "text/plain": [
       "            temp  baseline_pred_cv\n",
       "date                              \n",
       "2021-12-27  -3.9          2.208097\n",
       "2021-12-28  -0.5          2.208129\n",
       "2021-12-29   4.5          2.208162\n",
       "2021-12-30   9.3          2.208195\n",
       "2021-12-31  13.0          2.208228"
      ]
     },
     "execution_count": 58,
     "metadata": {},
     "output_type": "execute_result"
    }
   ],
   "source": [
    "#check results\n",
    "train[['temp','baseline_pred_cv']].tail()"
   ]
  },
  {
   "cell_type": "code",
   "execution_count": 61,
   "id": "65cfdf25",
   "metadata": {},
   "outputs": [
    {
     "data": {
      "image/png": "[encoded data removed]",
      "text/plain": [
       "<Figure size 1200x300 with 1 Axes>"
      ]
     },
     "metadata": {},
     "output_type": "display_data"
    }
   ],
   "source": [
    "mpl.rc('figure',figsize=(12,3),dpi=100)\n",
    "\n",
    "train[['temp','baseline_pred_cv']].loc['1950':'1960'].plot(legend=True)\n",
    "sns.despine()"
   ]
  },
  {
   "cell_type": "code",
   "execution_count": null,
   "id": "92ab60a6",
   "metadata": {},
   "outputs": [],
   "source": []
  },
  {
   "cell_type": "code",
   "execution_count": 59,
   "id": "535a10b5",
   "metadata": {},
   "outputs": [],
   "source": [
    "test['baseline_pred_cv'] = baseline_model_cv.predict(X_test_baseline)"
   ]
  },
  {
   "cell_type": "code",
   "execution_count": 60,
   "id": "2f770bf1",
   "metadata": {},
   "outputs": [
    {
     "data": {
      "text/html": [
       "<div>\n",
       "<style scoped>\n",
       "    .dataframe tbody tr th:only-of-type {\n",
       "        vertical-align: middle;\n",
       "    }\n",
       "\n",
       "    .dataframe tbody tr th {\n",
       "        vertical-align: top;\n",
       "    }\n",
       "\n",
       "    .dataframe thead th {\n",
       "        text-align: right;\n",
       "    }\n",
       "</style>\n",
       "<table border=\"1\" class=\"dataframe\">\n",
       "  <thead>\n",
       "    <tr style=\"text-align: right;\">\n",
       "      <th></th>\n",
       "      <th>temp</th>\n",
       "      <th>baseline_pred_cv</th>\n",
       "    </tr>\n",
       "    <tr>\n",
       "      <th>date</th>\n",
       "      <th></th>\n",
       "      <th></th>\n",
       "    </tr>\n",
       "  </thead>\n",
       "  <tbody>\n",
       "    <tr>\n",
       "      <th>2022-01-01</th>\n",
       "      <td>12.0</td>\n",
       "      <td>0.878231</td>\n",
       "    </tr>\n",
       "    <tr>\n",
       "      <th>2022-01-02</th>\n",
       "      <td>9.9</td>\n",
       "      <td>0.878264</td>\n",
       "    </tr>\n",
       "    <tr>\n",
       "      <th>2022-01-03</th>\n",
       "      <td>8.9</td>\n",
       "      <td>0.878296</td>\n",
       "    </tr>\n",
       "    <tr>\n",
       "      <th>2022-01-04</th>\n",
       "      <td>6.4</td>\n",
       "      <td>0.878329</td>\n",
       "    </tr>\n",
       "    <tr>\n",
       "      <th>2022-01-05</th>\n",
       "      <td>3.8</td>\n",
       "      <td>0.878362</td>\n",
       "    </tr>\n",
       "  </tbody>\n",
       "</table>\n",
       "</div>"
      ],
      "text/plain": [
       "            temp  baseline_pred_cv\n",
       "date                              \n",
       "2022-01-01  12.0          0.878231\n",
       "2022-01-02   9.9          0.878264\n",
       "2022-01-03   8.9          0.878296\n",
       "2022-01-04   6.4          0.878329\n",
       "2022-01-05   3.8          0.878362"
      ]
     },
     "execution_count": 60,
     "metadata": {},
     "output_type": "execute_result"
    }
   ],
   "source": [
    "test[['temp','baseline_pred_cv']].head()"
   ]
  },
  {
   "cell_type": "markdown",
   "id": "201eed63",
   "metadata": {},
   "source": [
    "# Model Remainder with (S)AR(I)MA"
   ]
  },
  {
   "cell_type": "code",
   "execution_count": 25,
   "id": "cba20303",
   "metadata": {},
   "outputs": [
    {
     "data": {
      "text/html": [
       "<div>\n",
       "<style scoped>\n",
       "    .dataframe tbody tr th:only-of-type {\n",
       "        vertical-align: middle;\n",
       "    }\n",
       "\n",
       "    .dataframe tbody tr th {\n",
       "        vertical-align: top;\n",
       "    }\n",
       "\n",
       "    .dataframe thead th {\n",
       "        text-align: right;\n",
       "    }\n",
       "</style>\n",
       "<table border=\"1\" class=\"dataframe\">\n",
       "  <thead>\n",
       "    <tr style=\"text-align: right;\">\n",
       "      <th></th>\n",
       "      <th>remainder</th>\n",
       "    </tr>\n",
       "    <tr>\n",
       "      <th>date</th>\n",
       "      <th></th>\n",
       "    </tr>\n",
       "  </thead>\n",
       "  <tbody>\n",
       "    <tr>\n",
       "      <th>2021-12-27</th>\n",
       "      <td>-6.840732</td>\n",
       "    </tr>\n",
       "    <tr>\n",
       "      <th>2021-12-28</th>\n",
       "      <td>-3.440843</td>\n",
       "    </tr>\n",
       "    <tr>\n",
       "      <th>2021-12-29</th>\n",
       "      <td>1.559045</td>\n",
       "    </tr>\n",
       "    <tr>\n",
       "      <th>2021-12-30</th>\n",
       "      <td>6.358934</td>\n",
       "    </tr>\n",
       "    <tr>\n",
       "      <th>2021-12-31</th>\n",
       "      <td>10.058823</td>\n",
       "    </tr>\n",
       "  </tbody>\n",
       "</table>\n",
       "</div>"
      ],
      "text/plain": [
       "            remainder\n",
       "date                 \n",
       "2021-12-27  -6.840732\n",
       "2021-12-28  -3.440843\n",
       "2021-12-29   1.559045\n",
       "2021-12-30   6.358934\n",
       "2021-12-31  10.058823"
      ]
     },
     "execution_count": 25,
     "metadata": {},
     "output_type": "execute_result"
    }
   ],
   "source": [
    "remainder = pd.read_csv('data/temp_remainder.csv',index_col=0,parse_dates=True)\n",
    "remainder.tail()"
   ]
  },
  {
   "cell_type": "code",
   "execution_count": 26,
   "id": "5a268c20",
   "metadata": {},
   "outputs": [],
   "source": [
    "remainder_data = remainder['remainder']"
   ]
  },
  {
   "cell_type": "code",
   "execution_count": 27,
   "id": "26b979ac",
   "metadata": {},
   "outputs": [
    {
     "name": "stdout",
     "output_type": "stream",
     "text": [
      "Performing stepwise search to minimize aic\n",
      " ARIMA(0,0,2)(0,0,0)[0] intercept   : AIC=248674.775, Time=3.76 sec\n",
      " ARIMA(0,0,0)(0,0,0)[0] intercept   : AIC=296780.496, Time=0.62 sec\n",
      " ARIMA(1,0,0)(0,0,0)[0] intercept   : AIC=241677.296, Time=1.27 sec\n",
      " ARIMA(0,0,1)(0,0,0)[0] intercept   : AIC=260430.430, Time=3.35 sec\n",
      " ARIMA(0,0,0)(0,0,0)[0]             : AIC=296778.496, Time=0.38 sec\n",
      " ARIMA(2,0,0)(0,0,0)[0] intercept   : AIC=240710.273, Time=1.70 sec\n",
      " ARIMA(3,0,0)(0,0,0)[0] intercept   : AIC=240460.203, Time=2.60 sec\n",
      " ARIMA(4,0,0)(0,0,0)[0] intercept   : AIC=240449.084, Time=2.62 sec\n",
      " ARIMA(5,0,0)(0,0,0)[0] intercept   : AIC=240442.536, Time=3.93 sec\n",
      " ARIMA(5,0,1)(0,0,0)[0] intercept   : AIC=240446.938, Time=7.37 sec\n",
      " ARIMA(4,0,1)(0,0,0)[0] intercept   : AIC=240440.744, Time=27.97 sec\n",
      " ARIMA(3,0,1)(0,0,0)[0] intercept   : AIC=240442.989, Time=15.06 sec\n",
      " ARIMA(4,0,2)(0,0,0)[0] intercept   : AIC=240444.209, Time=6.17 sec\n",
      " ARIMA(3,0,2)(0,0,0)[0] intercept   : AIC=240440.425, Time=4.14 sec\n",
      " ARIMA(2,0,2)(0,0,0)[0] intercept   : AIC=240442.418, Time=14.69 sec\n",
      " ARIMA(3,0,3)(0,0,0)[0] intercept   : AIC=240442.626, Time=5.04 sec\n",
      " ARIMA(2,0,1)(0,0,0)[0] intercept   : AIC=240521.597, Time=7.59 sec\n",
      " ARIMA(2,0,3)(0,0,0)[0] intercept   : AIC=240440.549, Time=4.59 sec\n",
      " ARIMA(4,0,3)(0,0,0)[0] intercept   : AIC=240444.249, Time=36.20 sec\n",
      " ARIMA(3,0,2)(0,0,0)[0]             : AIC=240438.425, Time=2.63 sec\n",
      " ARIMA(2,0,2)(0,0,0)[0]             : AIC=240440.418, Time=7.12 sec\n",
      " ARIMA(3,0,1)(0,0,0)[0]             : AIC=240440.990, Time=7.94 sec\n",
      " ARIMA(4,0,2)(0,0,0)[0]             : AIC=240442.210, Time=3.43 sec\n",
      " ARIMA(3,0,3)(0,0,0)[0]             : AIC=240440.626, Time=2.68 sec\n",
      " ARIMA(2,0,1)(0,0,0)[0]             : AIC=240519.597, Time=3.70 sec\n",
      " ARIMA(2,0,3)(0,0,0)[0]             : AIC=240438.549, Time=2.07 sec\n",
      " ARIMA(4,0,1)(0,0,0)[0]             : AIC=240438.745, Time=14.07 sec\n",
      " ARIMA(4,0,3)(0,0,0)[0]             : AIC=240442.249, Time=17.45 sec\n",
      "\n",
      "Best model:  ARIMA(3,0,2)(0,0,0)[0]          \n",
      "Total fit time: 210.183 seconds\n"
     ]
    }
   ],
   "source": [
    "arima_model = pm.auto_arima(\n",
    "    remainder_data, \n",
    "    start_p=0,\n",
    "    max_p=5,\n",
    "    seasonality = False,\n",
    "    stationarity = True,\n",
    "    trace = True,\n",
    "    n_jobs=-1\n",
    ")"
   ]
  },
  {
   "cell_type": "code",
   "execution_count": 64,
   "id": "a6ec2433",
   "metadata": {},
   "outputs": [],
   "source": [
    "train['arima_pred'] = arima_model.predict(train.shape[0], return_conf_int=True)[0]\n"
   ]
  },
  {
   "cell_type": "markdown",
   "id": "9cae7d8c",
   "metadata": {},
   "source": [
    "# FORECAST "
   ]
  },
  {
   "cell_type": "code",
   "execution_count": 35,
   "id": "66f88448",
   "metadata": {},
   "outputs": [],
   "source": [
    "test['arima_pred'] = arima_model.predict(test.shape[0], return_conf_int=True)[0]\n"
   ]
  },
  {
   "cell_type": "code",
   "execution_count": 36,
   "id": "f6ab57cd",
   "metadata": {},
   "outputs": [],
   "source": [
    "# to combine it with baseline_pred\n",
    "test['total_pred_new'] = test['baseline_pred_cv'] + test['arima_pred']"
   ]
  },
  {
   "cell_type": "code",
   "execution_count": 37,
   "id": "4507f35f",
   "metadata": {},
   "outputs": [
    {
     "data": {
      "text/html": [
       "<div>\n",
       "<style scoped>\n",
       "    .dataframe tbody tr th:only-of-type {\n",
       "        vertical-align: middle;\n",
       "    }\n",
       "\n",
       "    .dataframe tbody tr th {\n",
       "        vertical-align: top;\n",
       "    }\n",
       "\n",
       "    .dataframe thead th {\n",
       "        text-align: right;\n",
       "    }\n",
       "</style>\n",
       "<table border=\"1\" class=\"dataframe\">\n",
       "  <thead>\n",
       "    <tr style=\"text-align: right;\">\n",
       "      <th></th>\n",
       "      <th>temp</th>\n",
       "      <th>total_pred_new</th>\n",
       "      <th>arima_pred</th>\n",
       "    </tr>\n",
       "    <tr>\n",
       "      <th>date</th>\n",
       "      <th></th>\n",
       "      <th></th>\n",
       "      <th></th>\n",
       "    </tr>\n",
       "  </thead>\n",
       "  <tbody>\n",
       "    <tr>\n",
       "      <th>2022-01-01</th>\n",
       "      <td>12.0</td>\n",
       "      <td>8.843891</td>\n",
       "      <td>7.965661</td>\n",
       "    </tr>\n",
       "    <tr>\n",
       "      <th>2022-01-02</th>\n",
       "      <td>9.9</td>\n",
       "      <td>6.520675</td>\n",
       "      <td>5.642411</td>\n",
       "    </tr>\n",
       "    <tr>\n",
       "      <th>2022-01-03</th>\n",
       "      <td>8.9</td>\n",
       "      <td>5.072630</td>\n",
       "      <td>4.194334</td>\n",
       "    </tr>\n",
       "    <tr>\n",
       "      <th>2022-01-04</th>\n",
       "      <td>6.4</td>\n",
       "      <td>4.153229</td>\n",
       "      <td>3.274900</td>\n",
       "    </tr>\n",
       "    <tr>\n",
       "      <th>2022-01-05</th>\n",
       "      <td>3.8</td>\n",
       "      <td>3.508396</td>\n",
       "      <td>2.630034</td>\n",
       "    </tr>\n",
       "  </tbody>\n",
       "</table>\n",
       "</div>"
      ],
      "text/plain": [
       "            temp  total_pred_new  arima_pred\n",
       "date                                        \n",
       "2022-01-01  12.0        8.843891    7.965661\n",
       "2022-01-02   9.9        6.520675    5.642411\n",
       "2022-01-03   8.9        5.072630    4.194334\n",
       "2022-01-04   6.4        4.153229    3.274900\n",
       "2022-01-05   3.8        3.508396    2.630034"
      ]
     },
     "execution_count": 37,
     "metadata": {},
     "output_type": "execute_result"
    }
   ],
   "source": [
    "test[['temp','total_pred_new','arima_pred']].head()"
   ]
  },
  {
   "cell_type": "code",
   "execution_count": null,
   "id": "8882e499",
   "metadata": {},
   "outputs": [],
   "source": []
  },
  {
   "cell_type": "markdown",
   "id": "3036e1e9",
   "metadata": {},
   "source": [
    "## Check Residual"
   ]
  },
  {
   "cell_type": "code",
   "execution_count": 66,
   "id": "47c1e957",
   "metadata": {},
   "outputs": [],
   "source": [
    "# residual noise\n",
    "\n",
    "remainder['residuals'] = remainder['remainder'] - train['arima_pred']"
   ]
  },
  {
   "cell_type": "code",
   "execution_count": 67,
   "id": "cbe3752a",
   "metadata": {},
   "outputs": [
    {
     "data": {
      "image/png": "[encoded data removed]",
      "text/plain": [
       "<Figure size 1200x300 with 1 Axes>"
      ]
     },
     "metadata": {},
     "output_type": "display_data"
    }
   ],
   "source": [
    "# plot autocorrelation function\n",
    "\n",
    "plot_acf(remainder['residuals'],zero=False,lags=25)\n",
    "plt.xlabel('Nr. of lags')\n",
    "plt.ylabel('Autocorrelation')\n",
    "plt.ylim(-0.075,0.05)\n",
    "plt.show()\n"
   ]
  },
  {
   "cell_type": "code",
   "execution_count": 68,
   "id": "de2a4091",
   "metadata": {},
   "outputs": [
    {
     "data": {
      "image/png": "[encoded data removed]",
      "text/plain": [
       "<Figure size 1200x300 with 1 Axes>"
      ]
     },
     "metadata": {},
     "output_type": "display_data"
    }
   ],
   "source": [
    "# plot partial autocorrelation function\n",
    "\n",
    "plot_pacf(remainder['residuals'],zero=False,lags=25)\n",
    "plt.xlabel('Nr. of lags')\n",
    "plt.ylabel('Partial Autocorrelation')\n",
    "plt.ylim(-0.075,0.05)\n",
    "plt.show()"
   ]
  },
  {
   "cell_type": "code",
   "execution_count": null,
   "id": "fa65ea64",
   "metadata": {},
   "outputs": [],
   "source": []
  }
 ],
 "metadata": {
  "kernelspec": {
   "display_name": "Python 3 (ipykernel)",
   "language": "python",
   "name": "python3"
  },
  "language_info": {
   "codemirror_mode": {
    "name": "ipython",
    "version": 3
   },
   "file_extension": ".py",
   "mimetype": "text/x-python",
   "name": "python",
   "nbconvert_exporter": "python",
   "pygments_lexer": "ipython3",
   "version": "3.8.13"
  },
  "toc": {
   "base_numbering": 1,
   "nav_menu": {},
   "number_sections": true,
   "sideBar": true,
   "skip_h1_title": false,
   "title_cell": "Table of Contents",
   "title_sidebar": "Contents",
   "toc_cell": false,
   "toc_position": {},
   "toc_section_display": true,
   "toc_window_display": false
  }
 },
 "nbformat": 4,
 "nbformat_minor": 5
}
